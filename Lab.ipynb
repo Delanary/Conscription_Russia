{
 "cells": [
  {
   "cell_type": "code",
   "execution_count": 68,
   "metadata": {},
   "outputs": [],
   "source": [
    "import pandas as pd\n",
    "import numpy as np\n",
    "import seaborn as sns\n",
    "import matplotlib.pyplot as plt\n",
    "%matplotlib inline\n"
   ]
  },
  {
   "cell_type": "code",
   "execution_count": 69,
   "metadata": {},
   "outputs": [],
   "source": [
    "data = pd.read_csv(\"Data.csv\")\n",
    "data = data.rename(columns={0 : \"Sex\", 1 : \"Age\", 2 : \"Choice\"})\n"
   ]
  },
  {
   "cell_type": "markdown",
   "metadata": {},
   "source": [
    "<style>\n",
    "td {\n",
    "  font-size: 500px\n",
    "}\n",
    "</style>\n",
    "\n",
    "# Введение\n",
    "В данном исследовании изучался вопрос мнения населения Москвы о необходимости обязательного воинского призыва.\n",
    "Соответствующий вопрос, который задавался респондентам: _\"Поддержали бы вы отмену обязательного призыва?\"_\n",
    "\n",
    "##### Гипотеза была в том, что меньше четверти москвичей считают необходимым обязательный призыв.\n",
    "\n",
    "### Выборка\n",
    "\n",
    "Опрос проводился в центре Москвы, в окрестности станции метро Третьяковская, так что мы предполагаем, что выборка не репрезентует всё население Москвы. \n",
    "Всего было опрошено 412 москвичей, после чистки выборки осталось **244 женщины и 165 мужчин.**\n",
    "\n",
    "**На графиках ниже представлено распределение по возрастам.**\n",
    ">К сожалению, в первом опросе, составляющем около 40% выборки, мы не спрашивали точный возраст, так что существует небольшой перекос около возрастов, делящихся на 5\n"
   ]
  },
  {
   "cell_type": "code",
   "execution_count": 70,
   "metadata": {},
   "outputs": [
    {
     "name": "stdout",
     "output_type": "stream",
     "text": [
      "Средний возраст женщин: 29, средний возраст мужчин: 31\n"
     ]
    },
    {
     "data": {
      "image/png": "[encoded data removed]",
      "text/plain": [
       "<Figure size 432x288 with 1 Axes>"
      ]
     },
     "metadata": {
      "needs_background": "light"
     },
     "output_type": "display_data"
    }
   ],
   "source": [
    "sns.distplot(data[data[\"Sex\"] == \"Female\"][\"Age\"], hist=False, label=\"Женщины\")\n",
    "sns.distplot(data[data[\"Sex\"] == \"Male\"][\"Age\"], hist=False, label=\"Мужчины\")\n",
    "Female_age_mean = data[data[\"Sex\"] == \"Female\"][\"Age\"].mean()\n",
    "Male_age_mean = data[data[\"Sex\"] == \"Male\"][\"Age\"].mean()\n",
    "print(f\"Средний возраст женщин: {int(Female_age_mean)}, средний возраст мужчин: {int(Male_age_mean)}\")"
   ]
  },
  {
   "cell_type": "markdown",
   "metadata": {},
   "source": [
    "### Выборка\n",
    "Как видно из графиков, мы чаще всего опрашивали женщин в возрасте около 20 ( _возможно это связано с тем, что опрос проводили три молодых парня, но это не точно_ ), людей старше 40 мы вообще почти не опрашивали, что, как мы считаем, связано с тем, что во время коронавируса группы риска предпочитают сидеть дома.\n",
    "\n",
    "**Исходя из этого, было принято поделить выборку на 4 кластера: от 14 до 27, от 28 до 35, от 36 до 45 и старше 45.** Первый кластер такой большой, потому что нам кажется допустимым предположением, что более всего заинтересованы в отмене призыва люди призывного возраста.\n",
    ">Тут мы подчистили выборку, потому что у некоторых людей из первого опроса мы не узнали возраст, а ещё есть сколько-то людей моложе 14, которых мы решили не считать"
   ]
  },
  {
   "cell_type": "code",
   "execution_count": 118,
   "metadata": {},
   "outputs": [
    {
     "name": "stdout",
     "output_type": "stream",
     "text": [
      "409\n",
      "Женщин: 244 Мужчин: 165\n",
      "0.11735941320293398\n"
     ]
    }
   ],
   "source": [
    "print(len(data))\n",
    "data = data[data[\"Age\"] >= 14]\n",
    "print(\"Женщин:\", len(data[data[\"Sex\"] == \"Female\"]), \"Мужчин:\", len(data[data[\"Sex\"] == \"Male\"]))\n",
    "print(len(data[data[\"Age\"] >= 45]) / (244 + 165))"
   ]
  },
  {
   "cell_type": "code",
   "execution_count": 82,
   "metadata": {},
   "outputs": [],
   "source": [
    "def group(age):\n",
    "    if age <= 27:\n",
    "        return '<27'\n",
    "    elif age <= 35:\n",
    "        return '<35'\n",
    "    elif age <= 45:\n",
    "        return '<45'\n",
    "    else:\n",
    "        return '>45'\n",
    "data['age_group'] = data['Age'].apply(group)"
   ]
  },
  {
   "cell_type": "markdown",
   "metadata": {},
   "source": [
    "# Результаты\n",
    "\n",
    "\n",
    "#### Нормировка  \n",
    "К сожалению, наша изначальная гипотеза не подтвердилась. Если посмотреть на нормированные голоса, то мы получим, что **чуть больше половины считают, что призыв нужно оставить, чуть больше трети за реформу, а все остальные воздержались.** Достоверность этих данных не очень высока, потому что всего 10% опрошенных старше 45 лет, в то время как их вес в итоговой выборке очень большой. Данные о распределении по возрастам взяты с сайта http://www.statdata.ru/nasel_pol_vozr и мы очень надеемся, что там достоверная информация."
   ]
  },
  {
   "cell_type": "code",
   "execution_count": 121,
   "metadata": {},
   "outputs": [
    {
     "name": "stdout",
     "output_type": "stream",
     "text": [
      "Age_group: <27 <35 <45 >45 \n",
      "Sex =  Female\n",
      "choice: IDK 19 30 31 10 \n",
      "choice: YES 48 24 25 25 \n",
      "choice: NO  32 44 42 65 \n",
      "\n",
      "Sex =  Male\n",
      "choice: IDK 7 11 4 14 \n",
      "choice: YES 70 51 44 19 \n",
      "choice: NO  21 37 52 66 \n",
      "\n"
     ]
    }
   ],
   "source": [
    "Choices = [\"IDK\", \"YES\", \"NO\"]\n",
    "Age_Groups = [\"<27\", \"<35\", \"<45\", \">45\"]\n",
    "Sexes = [\"Female\", \"Male\"]\n",
    "total_male_count = 54940\n",
    "Weights = { \"Male\" : {\"<27\" : 10428.5, \"<35\" : 6270, '<45' : 10513, \">45\" : 24711},\n",
    "           \"Female\" : {\"<27\" : 10029, \"<35\" : 9189, '<45' : 1162, \">45\" : 36036}}\n",
    "total_Female_count = 66316\n",
    "print('Age_group: ', end='')\n",
    "for age_group in Age_Groups:\n",
    "    print(age_group, end=' ')\n",
    "print()\n",
    "sum_yes = 0\n",
    "sum_no  = 0\n",
    "sum_idk = 0\n",
    "for sex in Sexes:\n",
    "    print(\"Sex = \", sex)\n",
    "    for choice in Choices:\n",
    "        print(f\"choice: {choice} \", end='')\n",
    "        if choice == \"NO\":\n",
    "            print(' ', end='')\n",
    "        for age_group in Age_Groups:\n",
    "            percent = int(100 * len(data[(data['Choice'] == choice) & ((data['age_group'] == age_group) & (data[\"Sex\"] == sex))]) / \n",
    "                          len(data[(data['age_group'] == age_group) & (data[\"Sex\"] == sex)] )       )\n",
    "            print(percent, end=' ')\n",
    "            if choice == \"YES\":\n",
    "                sum_yes += int(percent * Weights[sex][age_group])\n",
    "            elif choice == \"NO\":\n",
    "                sum_no += int(percent * Weights[sex][age_group])\n",
    "            else:\n",
    "                sum_idk += int(percent * Weights[sex][age_group])\n",
    "        print()\n",
    "    print()\n"
   ]
  },
  {
   "cell_type": "code",
   "execution_count": 123,
   "metadata": {},
   "outputs": [
    {
     "name": "stdout",
     "output_type": "stream",
     "text": [
      "Всего за да: 3613724, всего за нет: 5744978, оставшихся: 1392578\n"
     ]
    }
   ],
   "source": [
    "print(f\"Всего за да: {sum_yes}, всего за нет: {sum_no}, оставшихся: {sum_idk}\")"
   ]
  },
  {
   "cell_type": "markdown",
   "metadata": {},
   "source": [
    "#### Другие результаты\n",
    "На паре графиков ниже нарисовано сначала соотношение долей \"за\" к долям \"против\", а потом соотношение долей \"безразлично\" к \"не безразлично\"\n",
    "\n",
    "Как видно из графиков, **чем моложе мужчина, тем меньше ему нравится идея обязательного призыва**, а вот для женщин всё чуть сложнее. Молодым женщинам либо всё равно на призыв, либо они против него, в промежутке от 28 до 45 им по большей части всё равно, а вот те, кто старше 45 делятся примерно одинаково на три группы. С другой стороны, доверительный интервал среди женщин в возрасте сравним с количеством их голосов, так что какую-либо закономерность достоверно установить невозможно.\n",
    "\n"
   ]
  },
  {
   "cell_type": "code",
   "execution_count": 124,
   "metadata": {},
   "outputs": [
    {
     "data": {
      "text/plain": [
       "<matplotlib.axes._subplots.AxesSubplot at 0x7fc8d15e6550>"
      ]
     },
     "execution_count": 124,
     "metadata": {},
     "output_type": "execute_result"
    },
    {
     "data": {
      "image/png": "[encoded data removed]",
      "text/plain": [
       "<Figure size 432x288 with 1 Axes>"
      ]
     },
     "metadata": {
      "needs_background": "light"
     },
     "output_type": "display_data"
    }
   ],
   "source": [
    "data['numeric_choice'] = data['Choice'].apply(lambda x: 1 if x == 'YES' else 0)\n",
    "sns.barplot(x='age_group', y='numeric_choice', data=data[data['Choice']!='IDK'].sort_values('age_group'), hue='Sex')"
   ]
  },
  {
   "cell_type": "code",
   "execution_count": 80,
   "metadata": {},
   "outputs": [
    {
     "data": {
      "text/plain": [
       "<matplotlib.axes._subplots.AxesSubplot at 0x7fc8d0b63090>"
      ]
     },
     "execution_count": 80,
     "metadata": {},
     "output_type": "execute_result"
    },
    {
     "data": {
      "image/png": "[encoded data removed]",
      "text/plain": [
       "<Figure size 432x288 with 1 Axes>"
      ]
     },
     "metadata": {
      "needs_background": "light"
     },
     "output_type": "display_data"
    }
   ],
   "source": [
    "data['numeric_choice'] = data['Choice'].apply(lambda x: 1 if x == 'IDK' else 0)\n",
    "sns.barplot(x='age_group', y='numeric_choice', data=data.sort_values('age_group'), hue='Sex')"
   ]
  }
 ],
 "metadata": {
  "kernelspec": {
   "display_name": "Python 3",
   "language": "python",
   "name": "python3"
  },
  "language_info": {
   "codemirror_mode": {
    "name": "ipython",
    "version": 3
   },
   "file_extension": ".py",
   "mimetype": "text/x-python",
   "name": "python",
   "nbconvert_exporter": "python",
   "pygments_lexer": "ipython3",
   "version": "3.7.5"
  }
 },
 "nbformat": 4,
 "nbformat_minor": 4
}
